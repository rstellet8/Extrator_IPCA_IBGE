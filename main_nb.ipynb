{
 "metadata": {
  "language_info": {
   "codemirror_mode": {
    "name": "ipython",
    "version": 3
   },
   "file_extension": ".py",
   "mimetype": "text/x-python",
   "name": "python",
   "nbconvert_exporter": "python",
   "pygments_lexer": "ipython3",
   "version": "3.8.8-final"
  },
  "orig_nbformat": 2,
  "kernelspec": {
   "name": "python3",
   "display_name": "Python 3.8.8 64-bit",
   "metadata": {
    "interpreter": {
     "hash": "798a047cb7dd66590e7087aac8e2438b000910e820b931f30694a91212f4eba8"
    }
   }
  }
 },
 "nbformat": 4,
 "nbformat_minor": 2,
 "cells": [
  {
   "cell_type": "code",
   "execution_count": 128,
   "metadata": {},
   "outputs": [],
   "source": [
    "#!/usr/bin/env python\n",
    "# coding: utf-8\n",
    "\n",
    "import pandas as pd\n",
    "import requests\n",
    "import zipfile\n",
    "import io\n",
    "import re   \n",
    "import calendar\n",
    "import openpyxl"
   ]
  },
  {
   "cell_type": "code",
   "execution_count": 129,
   "metadata": {},
   "outputs": [],
   "source": [
    "URL = \"https://sidra.ibge.gov.br/geratabela?format=xlsx&name=tabela7060.xlsx&terr=N&rank=-&query=t/7060/n1/all/v/all/p/all/c315/7169,7170,7445,7486,7558,7625,7660,7712,7766,7786/d/v63%202,v66%204,v69%202,v2265%202/l/,v%2Bt%2Bp,c315\"\n",
    "\n",
    "r = requests.get(URL)\n",
    "r = r.content"
   ]
  },
  {
   "cell_type": "code",
   "execution_count": 130,
   "metadata": {},
   "outputs": [
    {
     "output_type": "execute_result",
     "data": {
      "text/plain": [
       "<bound method NDFrame.head of    Tabela 7060 - IPCA - Variação mensal, acumulada no ano, acumulada em 12 meses e peso mensal, para o índice geral, grupos, subgrupos, itens e subitens de produtos e serviços (a partir de janeiro/2020)  \\\n",
       "0              Geral, grupo, subgrupo, item e subitem                                                                                                                                                        \n",
       "1                                                 NaN                                                                                                                                                        \n",
       "2                                                 NaN                                                                                                                                                        \n",
       "3                                                 NaN                                                                                                                                                        \n",
       "4                                        Índice geral                                                                                                                                                        \n",
       "5                             1.Alimentação e bebidas                                                                                                                                                        \n",
       "6                                         2.Habitação                                                                                                                                                        \n",
       "7                             3.Artigos de residência                                                                                                                                                        \n",
       "8                                         4.Vestuário                                                                                                                                                        \n",
       "9                                       5.Transportes                                                                                                                                                        \n",
       "10                        6.Saúde e cuidados pessoais                                                                                                                                                        \n",
       "11                                7.Despesas pessoais                                                                                                                                                        \n",
       "12                                         8.Educação                                                                                                                                                        \n",
       "13                                      9.Comunicação                                                                                                                                                        \n",
       "14  Fonte: IBGE - Índice Nacional de Preços ao Con...                                                                                                                                                        \n",
       "\n",
       "                    Unnamed: 1      Unnamed: 2  Unnamed: 3  Unnamed: 4  \\\n",
       "0               Variável x Mês             NaN         NaN         NaN   \n",
       "1   IPCA - Variação mensal (%)             NaN         NaN         NaN   \n",
       "2                       Brasil             NaN         NaN         NaN   \n",
       "3                 janeiro 2020  fevereiro 2020  março 2020  abril 2020   \n",
       "4                         0.21            0.25        0.07       -0.31   \n",
       "5                         0.39            0.11        1.13        1.79   \n",
       "6                         0.55           -0.39        0.13        -0.1   \n",
       "7                        -0.07           -0.08       -1.08       -1.37   \n",
       "8                        -0.48           -0.73        0.21         0.1   \n",
       "9                         0.32           -0.23        -0.9       -2.66   \n",
       "10                       -0.32            0.73        0.21       -0.22   \n",
       "11                        0.35            0.31       -0.23       -0.14   \n",
       "12                        0.16             3.7        0.59           0   \n",
       "13                        0.12            0.21        0.04        -0.2   \n",
       "14                         NaN             NaN         NaN         NaN   \n",
       "\n",
       "   Unnamed: 5  Unnamed: 6  Unnamed: 7   Unnamed: 8     Unnamed: 9  ...  \\\n",
       "0         NaN         NaN         NaN          NaN            NaN  ...   \n",
       "1         NaN         NaN         NaN          NaN            NaN  ...   \n",
       "2         NaN         NaN         NaN          NaN            NaN  ...   \n",
       "3   maio 2020  junho 2020  julho 2020  agosto 2020  setembro 2020  ...   \n",
       "4       -0.38        0.26        0.36         0.24           0.64  ...   \n",
       "5        0.24        0.38        0.01         0.78           2.28  ...   \n",
       "6       -0.25        0.04         0.8         0.36           0.37  ...   \n",
       "7        0.58         1.3         0.9         0.56              1  ...   \n",
       "8       -0.58       -0.46       -0.52        -0.78           0.37  ...   \n",
       "9        -1.9        0.31        0.78         0.82            0.7  ...   \n",
       "10       -0.1        0.35        0.44          0.5          -0.64  ...   \n",
       "11      -0.04       -0.05       -0.11        -0.01           0.09  ...   \n",
       "12       0.02        0.05       -0.12        -3.47          -0.09  ...   \n",
       "13       0.24        0.75        0.51         0.67           0.15  ...   \n",
       "14        NaN         NaN         NaN          NaN            NaN  ...   \n",
       "\n",
       "   Unnamed: 47 Unnamed: 48 Unnamed: 49  Unnamed: 50    Unnamed: 51  \\\n",
       "0          NaN         NaN         NaN          NaN            NaN   \n",
       "1          NaN         NaN         NaN          NaN            NaN   \n",
       "2          NaN         NaN         NaN          NaN            NaN   \n",
       "3    maio 2020  junho 2020  julho 2020  agosto 2020  setembro 2020   \n",
       "4          100         100         100          100            100   \n",
       "5      19.9696     20.0937     20.1194      20.0474        20.1553   \n",
       "6      15.5855     15.6048     15.5709      15.6402        15.6597   \n",
       "7       3.6487      3.6841      3.7222        3.742         3.7537   \n",
       "8       4.5263      4.5173      4.4849       4.4449         4.3994   \n",
       "9      19.8534     19.5495     19.5577      19.6398        19.7519   \n",
       "10     13.5533     13.5915     13.6048      13.6152        13.6502   \n",
       "11     10.7427     10.7785     10.7453      10.6963        10.6677   \n",
       "12      6.4098      6.4346      6.4198       6.3903         6.1531   \n",
       "13      5.7106      5.7461      5.7748       5.7838         5.8089   \n",
       "14         NaN         NaN         NaN          NaN            NaN   \n",
       "\n",
       "     Unnamed: 52    Unnamed: 53    Unnamed: 54   Unnamed: 55     Unnamed: 56  \n",
       "0            NaN            NaN            NaN           NaN             NaN  \n",
       "1            NaN            NaN            NaN           NaN             NaN  \n",
       "2            NaN            NaN            NaN           NaN             NaN  \n",
       "3   outubro 2020  novembro 2020  dezembro 2020  janeiro 2021  fevereiro 2021  \n",
       "4            100            100            100           100             100  \n",
       "5        20.4823        20.6985         21.037       21.1159         21.2779  \n",
       "6        15.6198        15.5426        15.4721       15.7065         15.4995  \n",
       "7         3.7668         3.7917         3.7903        3.8053          3.8281  \n",
       "8         4.3868         4.3974         4.3621        4.3285          4.3145  \n",
       "9        19.7627        19.8271        19.9125       19.9153         19.9472  \n",
       "10        13.478        13.4007        13.2657       13.1419         13.1514  \n",
       "11       10.6119        10.5415        10.4488       10.3787         10.3935  \n",
       "12        6.1103         6.0558         6.0007        5.9514          5.9442  \n",
       "13        5.7815         5.7448         5.7108        5.6564          5.6437  \n",
       "14           NaN            NaN            NaN           NaN             NaN  \n",
       "\n",
       "[15 rows x 57 columns]>"
      ]
     },
     "metadata": {},
     "execution_count": 130
    }
   ],
   "source": [
    "raw = pd.ExcelFile(r)\n",
    "raw = pd.read_excel(raw)\n",
    "raw.head"
   ]
  },
  {
   "cell_type": "code",
   "execution_count": 131,
   "metadata": {},
   "outputs": [
    {
     "output_type": "execute_result",
     "data": {
      "text/plain": [
       "0                 Índice geral\n",
       "1        Alimentação e bebidas\n",
       "2                    Habitação\n",
       "3        Artigos de residência\n",
       "4                    Vestuário\n",
       "5                  Transportes\n",
       "6    Saúde e cuidados pessoais\n",
       "7            Despesas pessoais\n",
       "8                     Educação\n",
       "9                  Comunicação\n",
       "dtype: object"
      ]
     },
     "metadata": {},
     "execution_count": 131
    }
   ],
   "source": [
    "categoria = raw.iloc[4:14, 0]\n",
    "categoria = categoria.rename()\n",
    "categoria = categoria.reset_index(drop=True)\n",
    "categoria_str = []\n",
    "for i in categoria:\n",
    "    cat = i.split(\".\")\n",
    "    cat_pass = []\n",
    "    for i in cat:\n",
    "        if not i.isnumeric():\n",
    "            cat_pass.append(i)\n",
    "            \n",
    "    categoria_str.append(cat_pass)\n",
    "\n",
    "categoria = [i[0] for i in categoria_str]\n",
    "categoria = pd.Series(categoria)\n",
    "categoria"
   ]
  },
  {
   "cell_type": "code",
   "execution_count": 132,
   "metadata": {},
   "outputs": [
    {
     "output_type": "execute_result",
     "data": {
      "text/plain": [
       "(15, 14)"
      ]
     },
     "metadata": {},
     "execution_count": 132
    }
   ],
   "source": [
    "last_time = raw.iloc[3, 1:]\n",
    "num_month = int(len(last_time)/4)\n",
    "last_time = pd.DataFrame(last_time)\n",
    "last_time.columns = [\"mes\"]\n",
    "last_time.reset_index()\n",
    "last_time = last_time.query(\"mes == 'janeiro 2020'\")\n",
    "#print(last_time)\n",
    "last_time = last_time.iloc[1, :]\n",
    "last_time = last_time.name\n",
    "last_time = int(last_time.split(\" \")[1])\n",
    "last_time, num_month"
   ]
  },
  {
   "cell_type": "code",
   "execution_count": 133,
   "metadata": {},
   "outputs": [
    {
     "output_type": "execute_result",
     "data": {
      "text/plain": [
       "0       janeiro 2020\n",
       "1     fevereiro 2020\n",
       "2         março 2020\n",
       "3         abril 2020\n",
       "4          maio 2020\n",
       "5         junho 2020\n",
       "6         julho 2020\n",
       "7        agosto 2020\n",
       "8      setembro 2020\n",
       "9       outubro 2020\n",
       "10     novembro 2020\n",
       "11     dezembro 2020\n",
       "12      janeiro 2021\n",
       "13    fevereiro 2021\n",
       "Name: 3, dtype: object"
      ]
     },
     "metadata": {},
     "execution_count": 133
    }
   ],
   "source": [
    "time = raw.iloc[3, 1:last_time]\n",
    "time = time.reset_index(drop=True)\n",
    "time"
   ]
  },
  {
   "cell_type": "code",
   "execution_count": 134,
   "metadata": {},
   "outputs": [
    {
     "output_type": "execute_result",
     "data": {
      "text/plain": [
       "3 janeiro 2020 fevereiro 2020 março 2020 abril 2020 maio 2020 junho 2020  \\\n",
       "0         0.21           0.25       0.07      -0.31     -0.38       0.26   \n",
       "1         0.39           0.11       1.13       1.79      0.24       0.38   \n",
       "2         0.55          -0.39       0.13       -0.1     -0.25       0.04   \n",
       "3        -0.07          -0.08      -1.08      -1.37      0.58        1.3   \n",
       "4        -0.48          -0.73       0.21        0.1     -0.58      -0.46   \n",
       "5         0.32          -0.23       -0.9      -2.66      -1.9       0.31   \n",
       "6        -0.32           0.73       0.21      -0.22      -0.1       0.35   \n",
       "7         0.35           0.31      -0.23      -0.14     -0.04      -0.05   \n",
       "8         0.16            3.7       0.59          0      0.02       0.05   \n",
       "9         0.12           0.21       0.04       -0.2      0.24       0.75   \n",
       "\n",
       "3 julho 2020 agosto 2020 setembro 2020 outubro 2020 novembro 2020  \\\n",
       "0       0.36        0.24          0.64         0.86          0.89   \n",
       "1       0.01        0.78          2.28         1.93          2.54   \n",
       "2        0.8        0.36          0.37         0.36          0.44   \n",
       "3        0.9        0.56             1         1.53          0.86   \n",
       "4      -0.52       -0.78          0.37         1.11          0.07   \n",
       "5       0.78        0.82           0.7         1.19          1.33   \n",
       "6       0.44         0.5         -0.64         0.28         -0.13   \n",
       "7      -0.11       -0.01          0.09         0.19          0.01   \n",
       "8      -0.12       -3.47         -0.09        -0.04         -0.02   \n",
       "9       0.51        0.67          0.15         0.21          0.29   \n",
       "\n",
       "3 dezembro 2020 janeiro 2021 fevereiro 2021  \n",
       "0          1.35         0.25           0.86  \n",
       "1          1.74         1.02           0.27  \n",
       "2          2.88        -1.07            0.4  \n",
       "3          1.76         0.86           0.66  \n",
       "4          0.59        -0.07           0.38  \n",
       "5          1.36         0.41           2.28  \n",
       "6           0.4         0.32           0.62  \n",
       "7          0.65         0.39           0.17  \n",
       "8          0.48         0.13           2.48  \n",
       "9          0.39         0.02          -0.13  "
      ],
      "text/html": "<div>\n<style scoped>\n    .dataframe tbody tr th:only-of-type {\n        vertical-align: middle;\n    }\n\n    .dataframe tbody tr th {\n        vertical-align: top;\n    }\n\n    .dataframe thead th {\n        text-align: right;\n    }\n</style>\n<table border=\"1\" class=\"dataframe\">\n  <thead>\n    <tr style=\"text-align: right;\">\n      <th>3</th>\n      <th>janeiro 2020</th>\n      <th>fevereiro 2020</th>\n      <th>março 2020</th>\n      <th>abril 2020</th>\n      <th>maio 2020</th>\n      <th>junho 2020</th>\n      <th>julho 2020</th>\n      <th>agosto 2020</th>\n      <th>setembro 2020</th>\n      <th>outubro 2020</th>\n      <th>novembro 2020</th>\n      <th>dezembro 2020</th>\n      <th>janeiro 2021</th>\n      <th>fevereiro 2021</th>\n    </tr>\n  </thead>\n  <tbody>\n    <tr>\n      <th>0</th>\n      <td>0.21</td>\n      <td>0.25</td>\n      <td>0.07</td>\n      <td>-0.31</td>\n      <td>-0.38</td>\n      <td>0.26</td>\n      <td>0.36</td>\n      <td>0.24</td>\n      <td>0.64</td>\n      <td>0.86</td>\n      <td>0.89</td>\n      <td>1.35</td>\n      <td>0.25</td>\n      <td>0.86</td>\n    </tr>\n    <tr>\n      <th>1</th>\n      <td>0.39</td>\n      <td>0.11</td>\n      <td>1.13</td>\n      <td>1.79</td>\n      <td>0.24</td>\n      <td>0.38</td>\n      <td>0.01</td>\n      <td>0.78</td>\n      <td>2.28</td>\n      <td>1.93</td>\n      <td>2.54</td>\n      <td>1.74</td>\n      <td>1.02</td>\n      <td>0.27</td>\n    </tr>\n    <tr>\n      <th>2</th>\n      <td>0.55</td>\n      <td>-0.39</td>\n      <td>0.13</td>\n      <td>-0.1</td>\n      <td>-0.25</td>\n      <td>0.04</td>\n      <td>0.8</td>\n      <td>0.36</td>\n      <td>0.37</td>\n      <td>0.36</td>\n      <td>0.44</td>\n      <td>2.88</td>\n      <td>-1.07</td>\n      <td>0.4</td>\n    </tr>\n    <tr>\n      <th>3</th>\n      <td>-0.07</td>\n      <td>-0.08</td>\n      <td>-1.08</td>\n      <td>-1.37</td>\n      <td>0.58</td>\n      <td>1.3</td>\n      <td>0.9</td>\n      <td>0.56</td>\n      <td>1</td>\n      <td>1.53</td>\n      <td>0.86</td>\n      <td>1.76</td>\n      <td>0.86</td>\n      <td>0.66</td>\n    </tr>\n    <tr>\n      <th>4</th>\n      <td>-0.48</td>\n      <td>-0.73</td>\n      <td>0.21</td>\n      <td>0.1</td>\n      <td>-0.58</td>\n      <td>-0.46</td>\n      <td>-0.52</td>\n      <td>-0.78</td>\n      <td>0.37</td>\n      <td>1.11</td>\n      <td>0.07</td>\n      <td>0.59</td>\n      <td>-0.07</td>\n      <td>0.38</td>\n    </tr>\n    <tr>\n      <th>5</th>\n      <td>0.32</td>\n      <td>-0.23</td>\n      <td>-0.9</td>\n      <td>-2.66</td>\n      <td>-1.9</td>\n      <td>0.31</td>\n      <td>0.78</td>\n      <td>0.82</td>\n      <td>0.7</td>\n      <td>1.19</td>\n      <td>1.33</td>\n      <td>1.36</td>\n      <td>0.41</td>\n      <td>2.28</td>\n    </tr>\n    <tr>\n      <th>6</th>\n      <td>-0.32</td>\n      <td>0.73</td>\n      <td>0.21</td>\n      <td>-0.22</td>\n      <td>-0.1</td>\n      <td>0.35</td>\n      <td>0.44</td>\n      <td>0.5</td>\n      <td>-0.64</td>\n      <td>0.28</td>\n      <td>-0.13</td>\n      <td>0.4</td>\n      <td>0.32</td>\n      <td>0.62</td>\n    </tr>\n    <tr>\n      <th>7</th>\n      <td>0.35</td>\n      <td>0.31</td>\n      <td>-0.23</td>\n      <td>-0.14</td>\n      <td>-0.04</td>\n      <td>-0.05</td>\n      <td>-0.11</td>\n      <td>-0.01</td>\n      <td>0.09</td>\n      <td>0.19</td>\n      <td>0.01</td>\n      <td>0.65</td>\n      <td>0.39</td>\n      <td>0.17</td>\n    </tr>\n    <tr>\n      <th>8</th>\n      <td>0.16</td>\n      <td>3.7</td>\n      <td>0.59</td>\n      <td>0</td>\n      <td>0.02</td>\n      <td>0.05</td>\n      <td>-0.12</td>\n      <td>-3.47</td>\n      <td>-0.09</td>\n      <td>-0.04</td>\n      <td>-0.02</td>\n      <td>0.48</td>\n      <td>0.13</td>\n      <td>2.48</td>\n    </tr>\n    <tr>\n      <th>9</th>\n      <td>0.12</td>\n      <td>0.21</td>\n      <td>0.04</td>\n      <td>-0.2</td>\n      <td>0.24</td>\n      <td>0.75</td>\n      <td>0.51</td>\n      <td>0.67</td>\n      <td>0.15</td>\n      <td>0.21</td>\n      <td>0.29</td>\n      <td>0.39</td>\n      <td>0.02</td>\n      <td>-0.13</td>\n    </tr>\n  </tbody>\n</table>\n</div>"
     },
     "metadata": {},
     "execution_count": 134
    }
   ],
   "source": [
    "ipca_mes = raw.iloc[4:(last_time - 1), 1:last_time]\n",
    "ipca_mes = ipca_mes.reset_index(drop=True)\n",
    "ipca_mes.columns = time\n",
    "ipca_mes"
   ]
  },
  {
   "cell_type": "code",
   "execution_count": 135,
   "metadata": {},
   "outputs": [
    {
     "output_type": "execute_result",
     "data": {
      "text/plain": [
       "3 janeiro 2020 fevereiro 2020 março 2020 abril 2020 maio 2020 junho 2020  \\\n",
       "0         0.21           0.46       0.53       0.22     -0.16        0.1   \n",
       "1         0.39            0.5       1.63       3.45       3.7       4.09   \n",
       "2         0.55           0.15       0.28       0.18     -0.07      -0.04   \n",
       "3        -0.07          -0.15      -1.23      -2.58     -2.02      -0.74   \n",
       "4        -0.48          -1.21         -1       -0.9     -1.48      -1.94   \n",
       "5         0.32            0.1       -0.8      -3.44     -5.28      -4.99   \n",
       "6        -0.32           0.41       0.62       0.39       0.3       0.65   \n",
       "7         0.35           0.66       0.43       0.29      0.25        0.2   \n",
       "8         0.16           3.86       4.47       4.47      4.49       4.54   \n",
       "9         0.12           0.33       0.36       0.16       0.4       1.15   \n",
       "\n",
       "3 julho 2020 agosto 2020 setembro 2020 outubro 2020 novembro 2020  \\\n",
       "0       0.46         0.7          1.34         2.22          3.13   \n",
       "1        4.1        4.91           7.3         9.37         12.14   \n",
       "2       0.76        1.12           1.5         1.86           2.3   \n",
       "3       0.16        0.72          1.73         3.28          4.17   \n",
       "4      -2.44       -3.21         -2.85        -1.77          -1.7   \n",
       "5      -4.25       -3.46         -2.79        -1.63         -0.32   \n",
       "6       1.09         1.6          0.95         1.23           1.1   \n",
       "7        0.1        0.08          0.17         0.36          0.38   \n",
       "8       4.42        0.79           0.7         0.66          0.64   \n",
       "9       1.67        2.35           2.5         2.72          3.02   \n",
       "\n",
       "3 dezembro 2020 janeiro 2021 fevereiro 2021  \n",
       "0          4.52         0.25           1.11  \n",
       "1         14.09         1.02            1.3  \n",
       "2          5.25        -1.07          -0.67  \n",
       "3             6         0.86           1.52  \n",
       "4         -1.13        -0.07           0.31  \n",
       "5          1.03         0.41            2.7  \n",
       "6           1.5         0.32           0.95  \n",
       "7          1.03         0.39           0.56  \n",
       "8          1.13         0.13           2.61  \n",
       "9          3.42         0.02          -0.11  "
      ],
      "text/html": "<div>\n<style scoped>\n    .dataframe tbody tr th:only-of-type {\n        vertical-align: middle;\n    }\n\n    .dataframe tbody tr th {\n        vertical-align: top;\n    }\n\n    .dataframe thead th {\n        text-align: right;\n    }\n</style>\n<table border=\"1\" class=\"dataframe\">\n  <thead>\n    <tr style=\"text-align: right;\">\n      <th>3</th>\n      <th>janeiro 2020</th>\n      <th>fevereiro 2020</th>\n      <th>março 2020</th>\n      <th>abril 2020</th>\n      <th>maio 2020</th>\n      <th>junho 2020</th>\n      <th>julho 2020</th>\n      <th>agosto 2020</th>\n      <th>setembro 2020</th>\n      <th>outubro 2020</th>\n      <th>novembro 2020</th>\n      <th>dezembro 2020</th>\n      <th>janeiro 2021</th>\n      <th>fevereiro 2021</th>\n    </tr>\n  </thead>\n  <tbody>\n    <tr>\n      <th>0</th>\n      <td>0.21</td>\n      <td>0.46</td>\n      <td>0.53</td>\n      <td>0.22</td>\n      <td>-0.16</td>\n      <td>0.1</td>\n      <td>0.46</td>\n      <td>0.7</td>\n      <td>1.34</td>\n      <td>2.22</td>\n      <td>3.13</td>\n      <td>4.52</td>\n      <td>0.25</td>\n      <td>1.11</td>\n    </tr>\n    <tr>\n      <th>1</th>\n      <td>0.39</td>\n      <td>0.5</td>\n      <td>1.63</td>\n      <td>3.45</td>\n      <td>3.7</td>\n      <td>4.09</td>\n      <td>4.1</td>\n      <td>4.91</td>\n      <td>7.3</td>\n      <td>9.37</td>\n      <td>12.14</td>\n      <td>14.09</td>\n      <td>1.02</td>\n      <td>1.3</td>\n    </tr>\n    <tr>\n      <th>2</th>\n      <td>0.55</td>\n      <td>0.15</td>\n      <td>0.28</td>\n      <td>0.18</td>\n      <td>-0.07</td>\n      <td>-0.04</td>\n      <td>0.76</td>\n      <td>1.12</td>\n      <td>1.5</td>\n      <td>1.86</td>\n      <td>2.3</td>\n      <td>5.25</td>\n      <td>-1.07</td>\n      <td>-0.67</td>\n    </tr>\n    <tr>\n      <th>3</th>\n      <td>-0.07</td>\n      <td>-0.15</td>\n      <td>-1.23</td>\n      <td>-2.58</td>\n      <td>-2.02</td>\n      <td>-0.74</td>\n      <td>0.16</td>\n      <td>0.72</td>\n      <td>1.73</td>\n      <td>3.28</td>\n      <td>4.17</td>\n      <td>6</td>\n      <td>0.86</td>\n      <td>1.52</td>\n    </tr>\n    <tr>\n      <th>4</th>\n      <td>-0.48</td>\n      <td>-1.21</td>\n      <td>-1</td>\n      <td>-0.9</td>\n      <td>-1.48</td>\n      <td>-1.94</td>\n      <td>-2.44</td>\n      <td>-3.21</td>\n      <td>-2.85</td>\n      <td>-1.77</td>\n      <td>-1.7</td>\n      <td>-1.13</td>\n      <td>-0.07</td>\n      <td>0.31</td>\n    </tr>\n    <tr>\n      <th>5</th>\n      <td>0.32</td>\n      <td>0.1</td>\n      <td>-0.8</td>\n      <td>-3.44</td>\n      <td>-5.28</td>\n      <td>-4.99</td>\n      <td>-4.25</td>\n      <td>-3.46</td>\n      <td>-2.79</td>\n      <td>-1.63</td>\n      <td>-0.32</td>\n      <td>1.03</td>\n      <td>0.41</td>\n      <td>2.7</td>\n    </tr>\n    <tr>\n      <th>6</th>\n      <td>-0.32</td>\n      <td>0.41</td>\n      <td>0.62</td>\n      <td>0.39</td>\n      <td>0.3</td>\n      <td>0.65</td>\n      <td>1.09</td>\n      <td>1.6</td>\n      <td>0.95</td>\n      <td>1.23</td>\n      <td>1.1</td>\n      <td>1.5</td>\n      <td>0.32</td>\n      <td>0.95</td>\n    </tr>\n    <tr>\n      <th>7</th>\n      <td>0.35</td>\n      <td>0.66</td>\n      <td>0.43</td>\n      <td>0.29</td>\n      <td>0.25</td>\n      <td>0.2</td>\n      <td>0.1</td>\n      <td>0.08</td>\n      <td>0.17</td>\n      <td>0.36</td>\n      <td>0.38</td>\n      <td>1.03</td>\n      <td>0.39</td>\n      <td>0.56</td>\n    </tr>\n    <tr>\n      <th>8</th>\n      <td>0.16</td>\n      <td>3.86</td>\n      <td>4.47</td>\n      <td>4.47</td>\n      <td>4.49</td>\n      <td>4.54</td>\n      <td>4.42</td>\n      <td>0.79</td>\n      <td>0.7</td>\n      <td>0.66</td>\n      <td>0.64</td>\n      <td>1.13</td>\n      <td>0.13</td>\n      <td>2.61</td>\n    </tr>\n    <tr>\n      <th>9</th>\n      <td>0.12</td>\n      <td>0.33</td>\n      <td>0.36</td>\n      <td>0.16</td>\n      <td>0.4</td>\n      <td>1.15</td>\n      <td>1.67</td>\n      <td>2.35</td>\n      <td>2.5</td>\n      <td>2.72</td>\n      <td>3.02</td>\n      <td>3.42</td>\n      <td>0.02</td>\n      <td>-0.11</td>\n    </tr>\n  </tbody>\n</table>\n</div>"
     },
     "metadata": {},
     "execution_count": 135
    }
   ],
   "source": [
    "ipca_ano = raw.iloc[4:(last_time - 1), last_time:(last_time + num_month)]\n",
    "ipca_ano = ipca_ano.reset_index(drop=True)\n",
    "ipca_ano.columns = time\n",
    "ipca_ano"
   ]
  },
  {
   "cell_type": "code",
   "execution_count": 136,
   "metadata": {},
   "outputs": [
    {
     "output_type": "execute_result",
     "data": {
      "text/plain": [
       "3 janeiro 2020 fevereiro 2020 março 2020 abril 2020 maio 2020 junho 2020  \\\n",
       "0          ...            ...        ...        ...       ...        ...   \n",
       "1          ...            ...        ...        ...       ...        ...   \n",
       "2          ...            ...        ...        ...       ...        ...   \n",
       "3          ...            ...        ...        ...       ...        ...   \n",
       "4          ...            ...        ...        ...       ...        ...   \n",
       "5          ...            ...        ...        ...       ...        ...   \n",
       "6          ...            ...        ...        ...       ...        ...   \n",
       "7          ...            ...        ...        ...       ...        ...   \n",
       "8          ...            ...        ...        ...       ...        ...   \n",
       "9          ...            ...        ...        ...       ...        ...   \n",
       "\n",
       "3 julho 2020 agosto 2020 setembro 2020 outubro 2020 novembro 2020  \\\n",
       "0        ...         ...           ...          ...           ...   \n",
       "1        ...         ...           ...          ...           ...   \n",
       "2        ...         ...           ...          ...           ...   \n",
       "3        ...         ...           ...          ...           ...   \n",
       "4        ...         ...           ...          ...           ...   \n",
       "5        ...         ...           ...          ...           ...   \n",
       "6        ...         ...           ...          ...           ...   \n",
       "7        ...         ...           ...          ...           ...   \n",
       "8        ...         ...           ...          ...           ...   \n",
       "9        ...         ...           ...          ...           ...   \n",
       "\n",
       "3 dezembro 2020 janeiro 2021 fevereiro 2021  \n",
       "0          4.52         4.56            5.2  \n",
       "1         14.09        14.81             15  \n",
       "2          5.25         3.56           4.39  \n",
       "3             6         6.98           7.78  \n",
       "4         -1.13        -0.72           0.39  \n",
       "5          1.03         1.12           3.66  \n",
       "6           1.5         2.15           2.05  \n",
       "7          1.03         1.07           0.93  \n",
       "8          1.13          1.1          -0.09  \n",
       "9          3.42         3.32           2.98  "
      ],
      "text/html": "<div>\n<style scoped>\n    .dataframe tbody tr th:only-of-type {\n        vertical-align: middle;\n    }\n\n    .dataframe tbody tr th {\n        vertical-align: top;\n    }\n\n    .dataframe thead th {\n        text-align: right;\n    }\n</style>\n<table border=\"1\" class=\"dataframe\">\n  <thead>\n    <tr style=\"text-align: right;\">\n      <th>3</th>\n      <th>janeiro 2020</th>\n      <th>fevereiro 2020</th>\n      <th>março 2020</th>\n      <th>abril 2020</th>\n      <th>maio 2020</th>\n      <th>junho 2020</th>\n      <th>julho 2020</th>\n      <th>agosto 2020</th>\n      <th>setembro 2020</th>\n      <th>outubro 2020</th>\n      <th>novembro 2020</th>\n      <th>dezembro 2020</th>\n      <th>janeiro 2021</th>\n      <th>fevereiro 2021</th>\n    </tr>\n  </thead>\n  <tbody>\n    <tr>\n      <th>0</th>\n      <td>...</td>\n      <td>...</td>\n      <td>...</td>\n      <td>...</td>\n      <td>...</td>\n      <td>...</td>\n      <td>...</td>\n      <td>...</td>\n      <td>...</td>\n      <td>...</td>\n      <td>...</td>\n      <td>4.52</td>\n      <td>4.56</td>\n      <td>5.2</td>\n    </tr>\n    <tr>\n      <th>1</th>\n      <td>...</td>\n      <td>...</td>\n      <td>...</td>\n      <td>...</td>\n      <td>...</td>\n      <td>...</td>\n      <td>...</td>\n      <td>...</td>\n      <td>...</td>\n      <td>...</td>\n      <td>...</td>\n      <td>14.09</td>\n      <td>14.81</td>\n      <td>15</td>\n    </tr>\n    <tr>\n      <th>2</th>\n      <td>...</td>\n      <td>...</td>\n      <td>...</td>\n      <td>...</td>\n      <td>...</td>\n      <td>...</td>\n      <td>...</td>\n      <td>...</td>\n      <td>...</td>\n      <td>...</td>\n      <td>...</td>\n      <td>5.25</td>\n      <td>3.56</td>\n      <td>4.39</td>\n    </tr>\n    <tr>\n      <th>3</th>\n      <td>...</td>\n      <td>...</td>\n      <td>...</td>\n      <td>...</td>\n      <td>...</td>\n      <td>...</td>\n      <td>...</td>\n      <td>...</td>\n      <td>...</td>\n      <td>...</td>\n      <td>...</td>\n      <td>6</td>\n      <td>6.98</td>\n      <td>7.78</td>\n    </tr>\n    <tr>\n      <th>4</th>\n      <td>...</td>\n      <td>...</td>\n      <td>...</td>\n      <td>...</td>\n      <td>...</td>\n      <td>...</td>\n      <td>...</td>\n      <td>...</td>\n      <td>...</td>\n      <td>...</td>\n      <td>...</td>\n      <td>-1.13</td>\n      <td>-0.72</td>\n      <td>0.39</td>\n    </tr>\n    <tr>\n      <th>5</th>\n      <td>...</td>\n      <td>...</td>\n      <td>...</td>\n      <td>...</td>\n      <td>...</td>\n      <td>...</td>\n      <td>...</td>\n      <td>...</td>\n      <td>...</td>\n      <td>...</td>\n      <td>...</td>\n      <td>1.03</td>\n      <td>1.12</td>\n      <td>3.66</td>\n    </tr>\n    <tr>\n      <th>6</th>\n      <td>...</td>\n      <td>...</td>\n      <td>...</td>\n      <td>...</td>\n      <td>...</td>\n      <td>...</td>\n      <td>...</td>\n      <td>...</td>\n      <td>...</td>\n      <td>...</td>\n      <td>...</td>\n      <td>1.5</td>\n      <td>2.15</td>\n      <td>2.05</td>\n    </tr>\n    <tr>\n      <th>7</th>\n      <td>...</td>\n      <td>...</td>\n      <td>...</td>\n      <td>...</td>\n      <td>...</td>\n      <td>...</td>\n      <td>...</td>\n      <td>...</td>\n      <td>...</td>\n      <td>...</td>\n      <td>...</td>\n      <td>1.03</td>\n      <td>1.07</td>\n      <td>0.93</td>\n    </tr>\n    <tr>\n      <th>8</th>\n      <td>...</td>\n      <td>...</td>\n      <td>...</td>\n      <td>...</td>\n      <td>...</td>\n      <td>...</td>\n      <td>...</td>\n      <td>...</td>\n      <td>...</td>\n      <td>...</td>\n      <td>...</td>\n      <td>1.13</td>\n      <td>1.1</td>\n      <td>-0.09</td>\n    </tr>\n    <tr>\n      <th>9</th>\n      <td>...</td>\n      <td>...</td>\n      <td>...</td>\n      <td>...</td>\n      <td>...</td>\n      <td>...</td>\n      <td>...</td>\n      <td>...</td>\n      <td>...</td>\n      <td>...</td>\n      <td>...</td>\n      <td>3.42</td>\n      <td>3.32</td>\n      <td>2.98</td>\n    </tr>\n  </tbody>\n</table>\n</div>"
     },
     "metadata": {},
     "execution_count": 136
    }
   ],
   "source": [
    "\n",
    "ipca_12m = raw.iloc[4:(last_time - 1), (last_time + num_month):(last_time + 2 * num_month)]\n",
    "ipca_12m = ipca_12m.reset_index(drop=True)\n",
    "ipca_12m.columns = time\n",
    "ipca_12m"
   ]
  },
  {
   "cell_type": "code",
   "execution_count": 137,
   "metadata": {},
   "outputs": [
    {
     "output_type": "execute_result",
     "data": {
      "text/plain": [
       "                   Categoria janeiro 2020 fevereiro 2020 março 2020  \\\n",
       "1      Alimentação e bebidas      19.3483        19.3816    19.3545   \n",
       "2                  Habitação      15.5945        15.6461     15.547   \n",
       "3      Artigos de residência       3.7529         3.7423     3.7298   \n",
       "4                  Vestuário        4.577         4.5455     4.5008   \n",
       "5                Transportes      20.5979        20.6217    20.5255   \n",
       "6  Saúde e cuidados pessoais      13.5334        13.4612    13.5247   \n",
       "7          Despesas pessoais       10.733        10.7474    10.7541   \n",
       "8                   Educação       6.1485         6.1448      6.356   \n",
       "9                Comunicação       5.7146         5.7096     5.7077   \n",
       "\n",
       "  abril 2020 maio 2020 junho 2020 julho 2020 agosto 2020 setembro 2020  \\\n",
       "1    19.5588   19.9696    20.0937    20.1194     20.0474       20.1553   \n",
       "2    15.5544   15.5855    15.6048    15.5709     15.6402       15.6597   \n",
       "3     3.6874    3.6487     3.6841     3.7222       3.742        3.7537   \n",
       "4     4.5075    4.5263     4.5173     4.4849      4.4449        4.3994   \n",
       "5    20.3299   19.8534    19.5495    19.5577     19.6398       19.7519   \n",
       "6    13.5438   13.5533    13.5915    13.6048     13.6152       13.6502   \n",
       "7    10.7233   10.7427    10.7785    10.7453     10.6963       10.6677   \n",
       "8     6.3893    6.4098     6.4346     6.4198      6.3903        6.1531   \n",
       "9     5.7055    5.7106     5.7461     5.7748      5.7838        5.8089   \n",
       "\n",
       "  outubro 2020 novembro 2020 dezembro 2020 janeiro 2021 fevereiro 2021  \n",
       "1      20.4823       20.6985        21.037      21.1159        21.2779  \n",
       "2      15.6198       15.5426       15.4721      15.7065        15.4995  \n",
       "3       3.7668        3.7917        3.7903       3.8053         3.8281  \n",
       "4       4.3868        4.3974        4.3621       4.3285         4.3145  \n",
       "5      19.7627       19.8271       19.9125      19.9153        19.9472  \n",
       "6       13.478       13.4007       13.2657      13.1419        13.1514  \n",
       "7      10.6119       10.5415       10.4488      10.3787        10.3935  \n",
       "8       6.1103        6.0558        6.0007       5.9514         5.9442  \n",
       "9       5.7815        5.7448        5.7108       5.6564         5.6437  "
      ],
      "text/html": "<div>\n<style scoped>\n    .dataframe tbody tr th:only-of-type {\n        vertical-align: middle;\n    }\n\n    .dataframe tbody tr th {\n        vertical-align: top;\n    }\n\n    .dataframe thead th {\n        text-align: right;\n    }\n</style>\n<table border=\"1\" class=\"dataframe\">\n  <thead>\n    <tr style=\"text-align: right;\">\n      <th></th>\n      <th>Categoria</th>\n      <th>janeiro 2020</th>\n      <th>fevereiro 2020</th>\n      <th>março 2020</th>\n      <th>abril 2020</th>\n      <th>maio 2020</th>\n      <th>junho 2020</th>\n      <th>julho 2020</th>\n      <th>agosto 2020</th>\n      <th>setembro 2020</th>\n      <th>outubro 2020</th>\n      <th>novembro 2020</th>\n      <th>dezembro 2020</th>\n      <th>janeiro 2021</th>\n      <th>fevereiro 2021</th>\n    </tr>\n  </thead>\n  <tbody>\n    <tr>\n      <th>1</th>\n      <td>Alimentação e bebidas</td>\n      <td>19.3483</td>\n      <td>19.3816</td>\n      <td>19.3545</td>\n      <td>19.5588</td>\n      <td>19.9696</td>\n      <td>20.0937</td>\n      <td>20.1194</td>\n      <td>20.0474</td>\n      <td>20.1553</td>\n      <td>20.4823</td>\n      <td>20.6985</td>\n      <td>21.037</td>\n      <td>21.1159</td>\n      <td>21.2779</td>\n    </tr>\n    <tr>\n      <th>2</th>\n      <td>Habitação</td>\n      <td>15.5945</td>\n      <td>15.6461</td>\n      <td>15.547</td>\n      <td>15.5544</td>\n      <td>15.5855</td>\n      <td>15.6048</td>\n      <td>15.5709</td>\n      <td>15.6402</td>\n      <td>15.6597</td>\n      <td>15.6198</td>\n      <td>15.5426</td>\n      <td>15.4721</td>\n      <td>15.7065</td>\n      <td>15.4995</td>\n    </tr>\n    <tr>\n      <th>3</th>\n      <td>Artigos de residência</td>\n      <td>3.7529</td>\n      <td>3.7423</td>\n      <td>3.7298</td>\n      <td>3.6874</td>\n      <td>3.6487</td>\n      <td>3.6841</td>\n      <td>3.7222</td>\n      <td>3.742</td>\n      <td>3.7537</td>\n      <td>3.7668</td>\n      <td>3.7917</td>\n      <td>3.7903</td>\n      <td>3.8053</td>\n      <td>3.8281</td>\n    </tr>\n    <tr>\n      <th>4</th>\n      <td>Vestuário</td>\n      <td>4.577</td>\n      <td>4.5455</td>\n      <td>4.5008</td>\n      <td>4.5075</td>\n      <td>4.5263</td>\n      <td>4.5173</td>\n      <td>4.4849</td>\n      <td>4.4449</td>\n      <td>4.3994</td>\n      <td>4.3868</td>\n      <td>4.3974</td>\n      <td>4.3621</td>\n      <td>4.3285</td>\n      <td>4.3145</td>\n    </tr>\n    <tr>\n      <th>5</th>\n      <td>Transportes</td>\n      <td>20.5979</td>\n      <td>20.6217</td>\n      <td>20.5255</td>\n      <td>20.3299</td>\n      <td>19.8534</td>\n      <td>19.5495</td>\n      <td>19.5577</td>\n      <td>19.6398</td>\n      <td>19.7519</td>\n      <td>19.7627</td>\n      <td>19.8271</td>\n      <td>19.9125</td>\n      <td>19.9153</td>\n      <td>19.9472</td>\n    </tr>\n    <tr>\n      <th>6</th>\n      <td>Saúde e cuidados pessoais</td>\n      <td>13.5334</td>\n      <td>13.4612</td>\n      <td>13.5247</td>\n      <td>13.5438</td>\n      <td>13.5533</td>\n      <td>13.5915</td>\n      <td>13.6048</td>\n      <td>13.6152</td>\n      <td>13.6502</td>\n      <td>13.478</td>\n      <td>13.4007</td>\n      <td>13.2657</td>\n      <td>13.1419</td>\n      <td>13.1514</td>\n    </tr>\n    <tr>\n      <th>7</th>\n      <td>Despesas pessoais</td>\n      <td>10.733</td>\n      <td>10.7474</td>\n      <td>10.7541</td>\n      <td>10.7233</td>\n      <td>10.7427</td>\n      <td>10.7785</td>\n      <td>10.7453</td>\n      <td>10.6963</td>\n      <td>10.6677</td>\n      <td>10.6119</td>\n      <td>10.5415</td>\n      <td>10.4488</td>\n      <td>10.3787</td>\n      <td>10.3935</td>\n    </tr>\n    <tr>\n      <th>8</th>\n      <td>Educação</td>\n      <td>6.1485</td>\n      <td>6.1448</td>\n      <td>6.356</td>\n      <td>6.3893</td>\n      <td>6.4098</td>\n      <td>6.4346</td>\n      <td>6.4198</td>\n      <td>6.3903</td>\n      <td>6.1531</td>\n      <td>6.1103</td>\n      <td>6.0558</td>\n      <td>6.0007</td>\n      <td>5.9514</td>\n      <td>5.9442</td>\n    </tr>\n    <tr>\n      <th>9</th>\n      <td>Comunicação</td>\n      <td>5.7146</td>\n      <td>5.7096</td>\n      <td>5.7077</td>\n      <td>5.7055</td>\n      <td>5.7106</td>\n      <td>5.7461</td>\n      <td>5.7748</td>\n      <td>5.7838</td>\n      <td>5.8089</td>\n      <td>5.7815</td>\n      <td>5.7448</td>\n      <td>5.7108</td>\n      <td>5.6564</td>\n      <td>5.6437</td>\n    </tr>\n  </tbody>\n</table>\n</div>"
     },
     "metadata": {},
     "execution_count": 137
    }
   ],
   "source": [
    "peso = raw.iloc[4:(last_time - 1), (last_time + 2 * num_month):(last_time + 3 * num_month)]\n",
    "peso = peso.reset_index(drop=True)\n",
    "peso.columns = time\n",
    "\n",
    "table_peso = pd.concat([categoria, peso], axis=1)\n",
    "table_peso = table_peso.iloc[1:,:]\n",
    "table_peso = table_peso.rename(columns={0: \"Categoria\"})\n",
    "\n",
    "table_peso"
   ]
  },
  {
   "cell_type": "code",
   "execution_count": 138,
   "metadata": {},
   "outputs": [
    {
     "output_type": "execute_result",
     "data": {
      "text/plain": [
       "                             fevereiro 2021 Acumulado no ano  \\\n",
       "0               Índice geral           0.86             1.11   \n",
       "1      Alimentação e bebidas           0.27              1.3   \n",
       "2                  Habitação            0.4            -0.67   \n",
       "3      Artigos de residência           0.66             1.52   \n",
       "4                  Vestuário           0.38             0.31   \n",
       "5                Transportes           2.28              2.7   \n",
       "6  Saúde e cuidados pessoais           0.62             0.95   \n",
       "7          Despesas pessoais           0.17             0.56   \n",
       "8                   Educação           2.48             2.61   \n",
       "9                Comunicação          -0.13            -0.11   \n",
       "\n",
       "  Acumulado 12 meses  \n",
       "0                5.2  \n",
       "1                 15  \n",
       "2               4.39  \n",
       "3               7.78  \n",
       "4               0.39  \n",
       "5               3.66  \n",
       "6               2.05  \n",
       "7               0.93  \n",
       "8              -0.09  \n",
       "9               2.98  "
      ],
      "text/html": "<div>\n<style scoped>\n    .dataframe tbody tr th:only-of-type {\n        vertical-align: middle;\n    }\n\n    .dataframe tbody tr th {\n        vertical-align: top;\n    }\n\n    .dataframe thead th {\n        text-align: right;\n    }\n</style>\n<table border=\"1\" class=\"dataframe\">\n  <thead>\n    <tr style=\"text-align: right;\">\n      <th></th>\n      <th></th>\n      <th>fevereiro 2021</th>\n      <th>Acumulado no ano</th>\n      <th>Acumulado 12 meses</th>\n    </tr>\n  </thead>\n  <tbody>\n    <tr>\n      <th>0</th>\n      <td>Índice geral</td>\n      <td>0.86</td>\n      <td>1.11</td>\n      <td>5.2</td>\n    </tr>\n    <tr>\n      <th>1</th>\n      <td>Alimentação e bebidas</td>\n      <td>0.27</td>\n      <td>1.3</td>\n      <td>15</td>\n    </tr>\n    <tr>\n      <th>2</th>\n      <td>Habitação</td>\n      <td>0.4</td>\n      <td>-0.67</td>\n      <td>4.39</td>\n    </tr>\n    <tr>\n      <th>3</th>\n      <td>Artigos de residência</td>\n      <td>0.66</td>\n      <td>1.52</td>\n      <td>7.78</td>\n    </tr>\n    <tr>\n      <th>4</th>\n      <td>Vestuário</td>\n      <td>0.38</td>\n      <td>0.31</td>\n      <td>0.39</td>\n    </tr>\n    <tr>\n      <th>5</th>\n      <td>Transportes</td>\n      <td>2.28</td>\n      <td>2.7</td>\n      <td>3.66</td>\n    </tr>\n    <tr>\n      <th>6</th>\n      <td>Saúde e cuidados pessoais</td>\n      <td>0.62</td>\n      <td>0.95</td>\n      <td>2.05</td>\n    </tr>\n    <tr>\n      <th>7</th>\n      <td>Despesas pessoais</td>\n      <td>0.17</td>\n      <td>0.56</td>\n      <td>0.93</td>\n    </tr>\n    <tr>\n      <th>8</th>\n      <td>Educação</td>\n      <td>2.48</td>\n      <td>2.61</td>\n      <td>-0.09</td>\n    </tr>\n    <tr>\n      <th>9</th>\n      <td>Comunicação</td>\n      <td>-0.13</td>\n      <td>-0.11</td>\n      <td>2.98</td>\n    </tr>\n  </tbody>\n</table>\n</div>"
     },
     "metadata": {},
     "execution_count": 138
    }
   ],
   "source": [
    "ipca_mes_last = ipca_mes.iloc[:, -1]\n",
    "ipca_ano_last = ipca_ano.iloc[:, -1]\n",
    "ipca_12m_last = ipca_12m.iloc[:, -1]\n",
    "table_main = pd.concat([categoria, ipca_mes_last, ipca_ano_last, ipca_12m_last], axis=1)\n",
    "table_main.columns = [\"\", ipca_mes_last.name, \"Acumulado no ano\", \"Acumulado 12 meses\"]\n",
    "table_main"
   ]
  },
  {
   "cell_type": "code",
   "execution_count": 139,
   "metadata": {
    "tags": []
   },
   "outputs": [
    {
     "output_type": "execute_result",
     "data": {
      "text/plain": [
       "                  Unnamed: 0 Unnamed: 1      Unnamed: 2 Unnamed: 3 Unnamed: 4  \\\n",
       "0    SÉRIE HISTÓRICA DO IPCA        NaN             NaN        NaN        NaN   \n",
       "1                        NaN        NaN             NaN        NaN        NaN   \n",
       "2                        NaN        NaN             NaN        NaN        NaN   \n",
       "3                        ANO        MÊS   NÚMERO ÍNDICE        (%)        NaN   \n",
       "4                        NaN        NaN  (DEZ 93 = 100)         NO          3   \n",
       "..                       ...        ...             ...        ...        ...   \n",
       "413                      NaN        NaN             NaN        NaN        NaN   \n",
       "414                      NaN        NaN             NaN        NaN        NaN   \n",
       "415                      NaN        NaN             NaN        NaN        NaN   \n",
       "416                      NaN        NaN             NaN        NaN        NaN   \n",
       "417                      NaN        NaN             NaN        NaN        NaN   \n",
       "\n",
       "       Unnamed: 5 Unnamed: 6  Unnamed: 7  \n",
       "0             NaN        NaN         NaN  \n",
       "1             NaN        NaN  (continua)  \n",
       "2        VARIAÇÃO        NaN         NaN  \n",
       "3             NaN        NaN         NaN  \n",
       "4               6         NO          12  \n",
       "..            ...        ...         ...  \n",
       "413           NaN        NaN         NaN  \n",
       "414           NaN        NaN         NaN  \n",
       "415           NaN        NaN         NaN  \n",
       "416           NaN        NaN         NaN  \n",
       "417                      NaN         NaN  \n",
       "\n",
       "[418 rows x 8 columns]"
      ],
      "text/html": "<div>\n<style scoped>\n    .dataframe tbody tr th:only-of-type {\n        vertical-align: middle;\n    }\n\n    .dataframe tbody tr th {\n        vertical-align: top;\n    }\n\n    .dataframe thead th {\n        text-align: right;\n    }\n</style>\n<table border=\"1\" class=\"dataframe\">\n  <thead>\n    <tr style=\"text-align: right;\">\n      <th></th>\n      <th>Unnamed: 0</th>\n      <th>Unnamed: 1</th>\n      <th>Unnamed: 2</th>\n      <th>Unnamed: 3</th>\n      <th>Unnamed: 4</th>\n      <th>Unnamed: 5</th>\n      <th>Unnamed: 6</th>\n      <th>Unnamed: 7</th>\n    </tr>\n  </thead>\n  <tbody>\n    <tr>\n      <th>0</th>\n      <td>SÉRIE HISTÓRICA DO IPCA</td>\n      <td>NaN</td>\n      <td>NaN</td>\n      <td>NaN</td>\n      <td>NaN</td>\n      <td>NaN</td>\n      <td>NaN</td>\n      <td>NaN</td>\n    </tr>\n    <tr>\n      <th>1</th>\n      <td>NaN</td>\n      <td>NaN</td>\n      <td>NaN</td>\n      <td>NaN</td>\n      <td>NaN</td>\n      <td>NaN</td>\n      <td>NaN</td>\n      <td>(continua)</td>\n    </tr>\n    <tr>\n      <th>2</th>\n      <td>NaN</td>\n      <td>NaN</td>\n      <td>NaN</td>\n      <td>NaN</td>\n      <td>NaN</td>\n      <td>VARIAÇÃO</td>\n      <td>NaN</td>\n      <td>NaN</td>\n    </tr>\n    <tr>\n      <th>3</th>\n      <td>ANO</td>\n      <td>MÊS</td>\n      <td>NÚMERO ÍNDICE</td>\n      <td>(%)</td>\n      <td>NaN</td>\n      <td>NaN</td>\n      <td>NaN</td>\n      <td>NaN</td>\n    </tr>\n    <tr>\n      <th>4</th>\n      <td>NaN</td>\n      <td>NaN</td>\n      <td>(DEZ 93 = 100)</td>\n      <td>NO</td>\n      <td>3</td>\n      <td>6</td>\n      <td>NO</td>\n      <td>12</td>\n    </tr>\n    <tr>\n      <th>...</th>\n      <td>...</td>\n      <td>...</td>\n      <td>...</td>\n      <td>...</td>\n      <td>...</td>\n      <td>...</td>\n      <td>...</td>\n      <td>...</td>\n    </tr>\n    <tr>\n      <th>413</th>\n      <td>NaN</td>\n      <td>NaN</td>\n      <td>NaN</td>\n      <td>NaN</td>\n      <td>NaN</td>\n      <td>NaN</td>\n      <td>NaN</td>\n      <td>NaN</td>\n    </tr>\n    <tr>\n      <th>414</th>\n      <td>NaN</td>\n      <td>NaN</td>\n      <td>NaN</td>\n      <td>NaN</td>\n      <td>NaN</td>\n      <td>NaN</td>\n      <td>NaN</td>\n      <td>NaN</td>\n    </tr>\n    <tr>\n      <th>415</th>\n      <td>NaN</td>\n      <td>NaN</td>\n      <td>NaN</td>\n      <td>NaN</td>\n      <td>NaN</td>\n      <td>NaN</td>\n      <td>NaN</td>\n      <td>NaN</td>\n    </tr>\n    <tr>\n      <th>416</th>\n      <td>NaN</td>\n      <td>NaN</td>\n      <td>NaN</td>\n      <td>NaN</td>\n      <td>NaN</td>\n      <td>NaN</td>\n      <td>NaN</td>\n      <td>NaN</td>\n    </tr>\n    <tr>\n      <th>417</th>\n      <td>NaN</td>\n      <td>NaN</td>\n      <td>NaN</td>\n      <td>NaN</td>\n      <td>NaN</td>\n      <td></td>\n      <td>NaN</td>\n      <td>NaN</td>\n    </tr>\n  </tbody>\n</table>\n<p>418 rows × 8 columns</p>\n</div>"
     },
     "metadata": {},
     "execution_count": 139
    }
   ],
   "source": [
    "URL_HIST = \"https://ftp.ibge.gov.br/Precos_Indices_de_Precos_ao_Consumidor/IPCA/Serie_Historica/ipca_SerieHist.zip\"\n",
    "\n",
    "hist_raw = requests.get(URL_HIST, stream=True)\n",
    "hist_raw = zipfile.ZipFile(io.BytesIO(hist_raw.content))\n",
    "\n",
    "hist_raw_filename = str(hist_raw.filelist[0])\n",
    "hist_raw_filename = hist_raw_filename.split(\"'\")[1]\n",
    "\n",
    "hist_raw = hist_raw.read(hist_raw_filename)\n",
    "hist_raw = pd.ExcelFile(hist_raw)\n",
    "hist_raw = pd.read_excel(hist_raw)\n",
    "hist_raw\n"
   ]
  },
  {
   "cell_type": "code",
   "execution_count": 140,
   "metadata": {},
   "outputs": [
    {
     "output_type": "execute_result",
     "data": {
      "text/plain": [
       "      ano  mes  valor\n",
       "0    1994  JAN  41.31\n",
       "1    1994  FEV  40.27\n",
       "2    1994  MAR  42.75\n",
       "3    1994  ABR  42.68\n",
       "4    1994  MAI  44.03\n",
       "..    ...  ...    ...\n",
       "321  2020  OUT   0.86\n",
       "322  2020  NOV   0.89\n",
       "323  2020  DEZ   1.35\n",
       "324  2021  JAN   0.25\n",
       "325  2021  FEV   0.86\n",
       "\n",
       "[326 rows x 3 columns]"
      ],
      "text/html": "<div>\n<style scoped>\n    .dataframe tbody tr th:only-of-type {\n        vertical-align: middle;\n    }\n\n    .dataframe tbody tr th {\n        vertical-align: top;\n    }\n\n    .dataframe thead th {\n        text-align: right;\n    }\n</style>\n<table border=\"1\" class=\"dataframe\">\n  <thead>\n    <tr style=\"text-align: right;\">\n      <th></th>\n      <th>ano</th>\n      <th>mes</th>\n      <th>valor</th>\n    </tr>\n  </thead>\n  <tbody>\n    <tr>\n      <th>0</th>\n      <td>1994</td>\n      <td>JAN</td>\n      <td>41.31</td>\n    </tr>\n    <tr>\n      <th>1</th>\n      <td>1994</td>\n      <td>FEV</td>\n      <td>40.27</td>\n    </tr>\n    <tr>\n      <th>2</th>\n      <td>1994</td>\n      <td>MAR</td>\n      <td>42.75</td>\n    </tr>\n    <tr>\n      <th>3</th>\n      <td>1994</td>\n      <td>ABR</td>\n      <td>42.68</td>\n    </tr>\n    <tr>\n      <th>4</th>\n      <td>1994</td>\n      <td>MAI</td>\n      <td>44.03</td>\n    </tr>\n    <tr>\n      <th>...</th>\n      <td>...</td>\n      <td>...</td>\n      <td>...</td>\n    </tr>\n    <tr>\n      <th>321</th>\n      <td>2020</td>\n      <td>OUT</td>\n      <td>0.86</td>\n    </tr>\n    <tr>\n      <th>322</th>\n      <td>2020</td>\n      <td>NOV</td>\n      <td>0.89</td>\n    </tr>\n    <tr>\n      <th>323</th>\n      <td>2020</td>\n      <td>DEZ</td>\n      <td>1.35</td>\n    </tr>\n    <tr>\n      <th>324</th>\n      <td>2021</td>\n      <td>JAN</td>\n      <td>0.25</td>\n    </tr>\n    <tr>\n      <th>325</th>\n      <td>2021</td>\n      <td>FEV</td>\n      <td>0.86</td>\n    </tr>\n  </tbody>\n</table>\n<p>326 rows × 3 columns</p>\n</div>"
     },
     "metadata": {},
     "execution_count": 140
    }
   ],
   "source": [
    "hist = hist_raw.iloc[7:len(hist_raw), [0,1,3]]\n",
    "hist = hist.dropna(how=\"all\")\n",
    "\n",
    "#hist[0] = hist[0].fillna(method=\"ffill\")\n",
    "hist.iloc[:,0] = hist.iloc[:,0].fillna(method=\"ffill\")\n",
    "hist = hist.dropna()\n",
    "hist.columns = [\"ano\", \"mes\", \"valor\"]\n",
    "hist = hist[hist.valor != \"(%)\"]\n",
    "hist = hist.reset_index(drop=True)\n",
    "hist"
   ]
  },
  {
   "cell_type": "code",
   "execution_count": 141,
   "metadata": {},
   "outputs": [
    {
     "output_type": "stream",
     "name": "stdout",
     "text": [
      "[1994, 'JAN', 41.31]\n[1994, 'FEV', 40.27]\n[1994, 'MAR', 42.75]\n[1994, 'ABR', 42.68]\n[1994, 'MAI', 44.03]\n[1994, 'JUN', 47.43]\n[1994, 'JUL', 6.84]\n[1994, 'AGO', 1.86]\n[1994, 'SET', 1.53]\n[1994, 'OUT', 2.62]\n[1994, 'NOV', 2.81]\n[1994, 'DEZ', 1.71]\n[1995, 'JAN', 1.7]\n[1995, 'FEV', 1.02]\n[1995, 'MAR', 1.55]\n[1995, 'ABR', 2.43]\n[1995, 'MAI', 2.67]\n[1995, 'JUN', 2.26]\n[1995, 'JUL', 2.36]\n[1995, 'AGO', 0.99]\n[1995, 'SET', 0.99]\n[1995, 'OUT', 1.41]\n[1995, 'NOV', 1.47]\n[1995, 'DEZ', 1.56]\n[1996, 'JAN', 1.34]\n[1996, 'FEV', 1.03]\n[1996, 'MAR', 0.35]\n[1996, 'ABR', 1.26]\n[1996, 'MAI', 1.22]\n[1996, 'JUN', 1.19]\n[1996, 'JUL', 1.11]\n[1996, 'AGO', 0.44]\n[1996, 'SET', 0.15]\n[1996, 'OUT', 0.3]\n[1996, 'NOV', 0.32]\n[1996, 'DEZ', 0.47]\n[1997, 'JAN', 1.18]\n[1997, 'FEV', 0.5]\n[1997, 'MAR', 0.51]\n[1997, 'ABR', 0.88]\n[1997, 'MAI', 0.41]\n[1997, 'JUN', 0.54]\n[1997, 'JUL', 0.22]\n[1997, 'AGO', -0.02]\n[1997, 'SET', 0.06]\n[1997, 'OUT', 0.23]\n[1997, 'NOV', 0.17]\n[1997, 'DEZ', 0.43]\n[1998, 'JAN', 0.71]\n[1998, 'FEV', 0.46]\n[1998, 'MAR', 0.34]\n[1998, 'ABR', 0.24]\n[1998, 'MAI', 0.5]\n[1998, 'JUN', 0.02]\n[1998, 'JUL', -0.12]\n[1998, 'AGO', -0.51]\n[1998, 'SET', -0.22]\n[1998, 'OUT', 0.02]\n[1998, 'NOV', -0.12]\n[1998, 'DEZ', 0.33]\n[1999, 'JAN', 0.7]\n[1999, 'FEV', 1.05]\n[1999, 'MAR', 1.1]\n[1999, 'ABR', 0.56]\n[1999, 'MAI', 0.3]\n[1999, 'JUN', 0.19]\n[1999, 'JUL', 1.09]\n[1999, 'AGO', 0.56]\n[1999, 'SET', 0.31]\n[1999, 'OUT', 1.19]\n[1999, 'NOV', 0.95]\n[1999, 'DEZ', 0.6]\n[2000, 'JAN', 0.62]\n[2000, 'FEV', 0.13]\n[2000, 'MAR', 0.22]\n[2000, 'ABR', 0.42]\n[2000, 'MAI', 0.01]\n[2000, 'JUN', 0.23]\n[2000, 'JUL', 1.61]\n[2000, 'AGO', 1.31]\n[2000, 'SET', 0.23]\n[2000, 'OUT', 0.14]\n[2000, 'NOV', 0.32]\n[2000, 'DEZ', 0.59]\n[2001, 'JAN', 0.57]\n[2001, 'FEV', 0.46]\n[2001, 'MAR', 0.38]\n[2001, 'ABR', 0.58]\n[2001, 'MAI', 0.41]\n[2001, 'JUN', 0.52]\n[2001, 'JUL', 1.33]\n[2001, 'AGO', 0.7]\n[2001, 'SET', 0.28]\n[2001, 'OUT', 0.83]\n[2001, 'NOV', 0.71]\n[2001, 'DEZ', 0.65]\n[2002, 'JAN', 0.52]\n[2002, 'FEV', 0.36]\n[2002, 'MAR', 0.6]\n[2002, 'ABR', 0.8]\n[2002, 'MAI', 0.21]\n[2002, 'JUN', 0.42]\n[2002, 'JUL', 1.19]\n[2002, 'AGO', 0.65]\n[2002, 'SET', 0.72]\n[2002, 'OUT', 1.31]\n[2002, 'NOV', 3.02]\n[2002, 'DEZ', 2.1]\n[2003, 'JAN', 2.25]\n[2003, 'FEV', 1.57]\n[2003, 'MAR', 1.23]\n[2003, 'ABR', 0.97]\n[2003, 'MAI', 0.61]\n[2003, 'JUN', -0.15]\n[2003, 'JUL', 0.2]\n[2003, 'AGO', 0.34]\n[2003, 'SET', 0.78]\n[2003, 'OUT', 0.29]\n[2003, 'NOV', 0.34]\n[2003, 'DEZ', 0.52]\n[2004, 'JAN', 0.76]\n[2004, 'FEV', 0.61]\n[2004, 'MAR', 0.47]\n[2004, 'ABR', 0.37]\n[2004, 'MAI', 0.51]\n[2004, 'JUN', 0.71]\n[2004, 'JUL', 0.91]\n[2004, 'AGO', 0.69]\n[2004, 'SET', 0.33]\n[2004, 'OUT', 0.44]\n[2004, 'NOV', 0.69]\n[2004, 'DEZ', 0.86]\n[2005, 'JAN', 0.58]\n[2005, 'FEV', 0.59]\n[2005, 'MAR', 0.61]\n[2005, 'ABR', 0.87]\n[2005, 'MAI', 0.49]\n[2005, 'JUN', -0.02]\n[2005, 'JUL', 0.25]\n[2005, 'AGO', 0.17]\n[2005, 'SET', 0.35]\n[2005, 'OUT', 0.75]\n[2005, 'NOV', 0.55]\n[2005, 'DEZ', 0.36]\n[2006, 'JAN', 0.59]\n[2006, 'FEV', 0.41]\n[2006, 'MAR', 0.43]\n[2006, 'ABR', 0.21]\n[2006, 'MAI', 0.1]\n[2006, 'JUN', -0.21]\n[2006, 'JUL', 0.19]\n[2006, 'AGO', 0.05]\n[2006, 'SET', 0.21]\n[2006, 'OUT', 0.33]\n[2006, 'NOV', 0.31]\n[2006, 'DEZ', 0.48]\n[2007, 'JAN', 0.44]\n[2007, 'FEV', 0.44]\n[2007, 'MAR', 0.37]\n[2007, 'ABR', 0.25]\n[2007, 'MAI', 0.28]\n[2007, 'JUN', 0.28]\n[2007, 'JUL', 0.24]\n[2007, 'AGO', 0.47]\n[2007, 'SET', 0.18]\n[2007, 'OUT', 0.3]\n[2007, 'NOV', 0.38]\n[2007, 'DEZ', 0.74]\n[2008, 'JAN', 0.54]\n[2008, 'FEV', 0.49]\n[2008, 'MAR', 0.48]\n[2008, 'ABR', 0.55]\n[2008, 'MAI', 0.79]\n[2008, 'JUN', 0.74]\n[2008, 'JUL', 0.53]\n[2008, 'AGO', 0.28]\n[2008, 'SET', 0.26]\n[2008, 'OUT', 0.45]\n[2008, 'NOV', 0.36]\n[2008, 'DEZ', 0.28]\n[2009, 'JAN', 0.48]\n[2009, 'FEV', 0.55]\n[2009, 'MAR', 0.2]\n[2009, 'ABR', 0.48]\n[2009, 'MAI', 0.47]\n[2009, 'JUN', 0.36]\n[2009, 'JUL', 0.24]\n[2009, 'AGO', 0.15]\n[2009, 'SET', 0.24]\n[2009, 'OUT', 0.28]\n[2009, 'NOV', 0.41]\n[2009, 'DEZ', 0.37]\n[2010, 'JAN', 0.75]\n[2010, 'FEV', 0.78]\n[2010, 'MAR', 0.52]\n[2010, 'ABR', 0.57]\n[2010, 'MAI', 0.43]\n[2010, 'JUN', 0]\n[2010, 'JUL', 0.01]\n[2010, 'AGO', 0.04]\n[2010, 'SET', 0.45]\n[2010, 'OUT', 0.75]\n[2010, 'NOV', 0.83]\n[2010, 'DEZ', 0.63]\n[2011, 'JAN', 0.83]\n[2011, 'FEV', 0.8]\n[2011, 'MAR', 0.79]\n[2011, 'ABR', 0.77]\n[2011, 'MAI', 0.47]\n[2011, 'JUN', 0.15]\n[2011, 'JUL', 0.16]\n[2011, 'AGO', 0.37]\n[2011, 'SET', 0.53]\n[2011, 'OUT', 0.43]\n[2011, 'NOV', 0.52]\n[2011, 'DEZ', 0.5]\n[2012, 'JAN', 0.56]\n[2012, 'FEV', 0.45]\n[2012, 'MAR', 0.21]\n[2012, 'ABR', 0.64]\n[2012, 'MAI', 0.36]\n[2012, 'JUN', 0.08]\n[2012, 'JUL', 0.43]\n[2012, 'AGO', 0.41]\n[2012, 'SET', 0.57]\n[2012, 'OUT', 0.59]\n[2012, 'NOV', 0.6]\n[2012, 'DEZ', 0.79]\n[2013, 'JAN', 0.86]\n[2013, 'FEV', 0.6]\n[2013, 'MAR', 0.47]\n[2013, 'ABR', 0.55]\n[2013, 'MAI', 0.37]\n[2013, 'JUN', 0.26]\n[2013, 'JUL', 0.03]\n[2013, 'AGO', 0.24]\n[2013, 'SET', 0.35]\n[2013, 'OUT', 0.57]\n[2013, 'NOV', 0.54]\n[2013, 'DEZ', 0.92]\n[2014, 'JAN', 0.55]\n[2014, 'FEV', 0.69]\n[2014, 'MAR', 0.92]\n[2014, 'ABR', 0.67]\n[2014, 'MAI', 0.46]\n[2014, 'JUN', 0.4]\n[2014, 'JUL', 0.01]\n[2014, 'AGO', 0.25]\n[2014, 'SET', 0.57]\n[2014, 'OUT', 0.42]\n[2014, 'NOV', 0.51]\n[2014, 'DEZ', 0.78]\n[2015, 'JAN', 1.24]\n[2015, 'FEV', 1.22]\n[2015, 'MAR', 1.32]\n[2015, 'ABR', 0.71]\n[2015, 'MAI', 0.74]\n[2015, 'JUN', 0.79]\n[2015, 'JUL', 0.62]\n[2015, 'AGO', 0.22]\n[2015, 'SET', 0.54]\n[2015, 'OUT', 0.82]\n[2015, 'NOV', 1.01]\n[2015, 'DEZ', 0.96]\n[2016, 'JAN', 1.27]\n[2016, 'FEV', 0.9]\n[2016, 'MAR', 0.43]\n[2016, 'ABR', 0.61]\n[2016, 'MAI', 0.78]\n[2016, 'JUN', 0.35]\n[2016, 'JUL', 0.52]\n[2016, 'AGO', 0.44]\n[2016, 'SET', 0.08]\n[2016, 'OUT', 0.26]\n[2016, 'NOV', 0.18]\n[2016, 'DEZ', 0.3]\n[2017, 'JAN', 0.38]\n[2017, 'FEV', 0.33]\n[2017, 'MAR', 0.25]\n[2017, 'ABR', 0.14]\n[2017, 'MAI', 0.31]\n[2017, 'JUN', -0.23]\n[2017, 'JUL', 0.24]\n[2017, 'AGO', 0.19]\n[2017, 'SET', 0.16]\n[2017, 'OUT', 0.42]\n[2017, 'NOV', 0.28]\n[2017, 'DEZ', 0.44]\n[2018, 'JAN', 0.29]\n[2018, 'FEV', 0.32]\n[2018, 'MAR', 0.09]\n[2018, 'ABR', 0.22]\n[2018, 'MAI', 0.4]\n[2018, 'JUN', 1.26]\n[2018, 'JUL', 0.33]\n[2018, 'AGO', -0.09]\n[2018, 'SET', 0.48]\n[2018, 'OUT', 0.45]\n[2018, 'NOV', -0.21]\n[2018, 'DEZ', 0.15]\n[2019, 'JAN', 0.32]\n[2019, 'FEV', 0.43]\n[2019, 'MAR', 0.75]\n[2019, 'ABR', 0.57]\n[2019, 'MAI', 0.13]\n[2019, 'JUN', 0.01]\n[2019, 'JUL', 0.19]\n[2019, 'AGO', 0.11]\n[2019, 'SET', -0.04]\n[2019, 'OUT', 0.1]\n[2019, 'NOV', 0.51]\n[2019, 'DEZ', 1.15]\n[2020, 'JAN', 0.21]\n[2020, 'FEV', 0.25]\n[2020, 'MAR', 0.07]\n[2020, 'ABR', -0.31]\n[2020, 'MAI', -0.38]\n[2020, 'JUN', 0.26]\n[2020, 'JUL', 0.36]\n[2020, 'AGO', 0.24]\n[2020, 'SET', 0.64]\n[2020, 'OUT', 0.86]\n[2020, 'NOV', 0.89]\n[2020, 'DEZ', 1.35]\n[2021, 'JAN', 0.25]\n[2021, 'FEV', 0.86]\n"
     ]
    }
   ],
   "source": [
    "for i in range(len(hist)):\n",
    "    print(list(hist.iloc[i,:]))"
   ]
  },
  {
   "cell_type": "code",
   "execution_count": 142,
   "metadata": {},
   "outputs": [
    {
     "output_type": "execute_result",
     "data": {
      "text/plain": [
       "0      JAN-1994\n",
       "1      FEV-1994\n",
       "2      MAR-1994\n",
       "3      ABR-1994\n",
       "4      MAI-1994\n",
       "         ...   \n",
       "321    OUT-2020\n",
       "322    NOV-2020\n",
       "323    DEZ-2020\n",
       "324    JAN-2021\n",
       "325    FEV-2021\n",
       "Length: 326, dtype: object"
      ]
     },
     "metadata": {},
     "execution_count": 142
    }
   ],
   "source": [
    "data_str = [str(hist.iloc[i,1]) + \"-\" + str(hist.iloc[i, 0]) for i in range(len(hist.mes))]\n",
    "data_str = pd.Series(data_str)\n",
    "data_str"
   ]
  },
  {
   "cell_type": "code",
   "execution_count": 143,
   "metadata": {},
   "outputs": [
    {
     "output_type": "execute_result",
     "data": {
      "text/plain": [
       "         Data IPCA no Mês\n",
       "0    JAN-1994       41.31\n",
       "1    FEV-1994       40.27\n",
       "2    MAR-1994       42.75\n",
       "3    ABR-1994       42.68\n",
       "4    MAI-1994       44.03\n",
       "..        ...         ...\n",
       "321  OUT-2020        0.86\n",
       "322  NOV-2020        0.89\n",
       "323  DEZ-2020        1.35\n",
       "324  JAN-2021        0.25\n",
       "325  FEV-2021        0.86\n",
       "\n",
       "[326 rows x 2 columns]"
      ],
      "text/html": "<div>\n<style scoped>\n    .dataframe tbody tr th:only-of-type {\n        vertical-align: middle;\n    }\n\n    .dataframe tbody tr th {\n        vertical-align: top;\n    }\n\n    .dataframe thead th {\n        text-align: right;\n    }\n</style>\n<table border=\"1\" class=\"dataframe\">\n  <thead>\n    <tr style=\"text-align: right;\">\n      <th></th>\n      <th>Data</th>\n      <th>IPCA no Mês</th>\n    </tr>\n  </thead>\n  <tbody>\n    <tr>\n      <th>0</th>\n      <td>JAN-1994</td>\n      <td>41.31</td>\n    </tr>\n    <tr>\n      <th>1</th>\n      <td>FEV-1994</td>\n      <td>40.27</td>\n    </tr>\n    <tr>\n      <th>2</th>\n      <td>MAR-1994</td>\n      <td>42.75</td>\n    </tr>\n    <tr>\n      <th>3</th>\n      <td>ABR-1994</td>\n      <td>42.68</td>\n    </tr>\n    <tr>\n      <th>4</th>\n      <td>MAI-1994</td>\n      <td>44.03</td>\n    </tr>\n    <tr>\n      <th>...</th>\n      <td>...</td>\n      <td>...</td>\n    </tr>\n    <tr>\n      <th>321</th>\n      <td>OUT-2020</td>\n      <td>0.86</td>\n    </tr>\n    <tr>\n      <th>322</th>\n      <td>NOV-2020</td>\n      <td>0.89</td>\n    </tr>\n    <tr>\n      <th>323</th>\n      <td>DEZ-2020</td>\n      <td>1.35</td>\n    </tr>\n    <tr>\n      <th>324</th>\n      <td>JAN-2021</td>\n      <td>0.25</td>\n    </tr>\n    <tr>\n      <th>325</th>\n      <td>FEV-2021</td>\n      <td>0.86</td>\n    </tr>\n  </tbody>\n</table>\n<p>326 rows × 2 columns</p>\n</div>"
     },
     "metadata": {},
     "execution_count": 143
    }
   ],
   "source": [
    "table_hist = pd.concat([data_str, hist.iloc[:,2]], axis=1)\n",
    "table_hist.columns = [\"Data\", \"IPCA no Mês\"]\n",
    "table_hist\n",
    "#for i in range(len(table_hist)):\n",
    "#    print(list(table_hist.iloc[i,:]))"
   ]
  },
  {
   "cell_type": "code",
   "execution_count": 144,
   "metadata": {},
   "outputs": [],
   "source": [
    "\n",
    "# In[34]:\n",
    "\n",
    "\n",
    "with pd.ExcelWriter(\"RENAN STELLET IPCA.xlsx\") as writer:\n",
    "    table_main.to_excel(writer, index=False, sheet_name=\"Tabela\")\n",
    "    table_hist.to_excel(writer, index=False, sheet_name=\"IPCA mensal histórico\")\n",
    "    table_peso.to_excel(writer, index=False, sheet_name=\"Pesos\")\n",
    "\n",
    "workbook = openpyxl.load_workbook(\"RENAN STELLET IPCA.xlsx\")\n",
    "\n",
    "xcl_main = workbook[\"Tabela\"]\n",
    "xcl_main.column_dimensions[\"A\"].width = 24\n",
    "xcl_main.column_dimensions[\"B\"].width = 10\n",
    "xcl_main.column_dimensions[\"C\"].width = 15\n",
    "xcl_main.column_dimensions[\"D\"].width = 15\n",
    "xcl_main.row_dimensions[1].height = 30\n",
    "\n",
    "xcl_main['B1'].alignment = openpyxl.styles.Alignment(horizontal=\"center\", vertical=\"center\", wrapText=True)\n",
    "xcl_main['C1'].alignment = openpyxl.styles.Alignment(horizontal=\"center\", vertical=\"center\", wrapText=True)\n",
    "xcl_main['D1'].alignment = openpyxl.styles.Alignment(horizontal=\"center\", vertical=\"center\", wrapText=True)\n",
    "\n",
    "xcl_peso = workbook[\"Pesos\"]\n",
    "xcl_peso.column_dimensions[\"A\"].width = 25\n",
    "xcl_peso_columntofit = [\"B\", \"C\", \"D\", \"E\", \"F\", \"G\", \"H\", \"I\", \"J\", \"K\", \"L\", \"M\", \"N\", \"O\"]\n",
    "for i in xcl_peso_columntofit:\n",
    "    xcl_peso.column_dimensions[i].width = 15\n",
    "\n",
    "xcl_hist = workbook[\"IPCA mensal histórico\"]\n",
    "xcl_hist.column_dimensions[\"A\"].width = 12\n",
    "xcl_hist.column_dimensions[\"B\"].width = 12\n",
    "\n",
    "workbook.save(\"RENAN STELLET IPCA.xlsx\")\n"
   ]
  }
 ]
}
